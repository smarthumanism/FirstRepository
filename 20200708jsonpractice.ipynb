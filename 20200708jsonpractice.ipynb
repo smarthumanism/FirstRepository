{
 "cells": [
  {
   "cell_type": "code",
   "execution_count": 1,
   "metadata": {},
   "outputs": [],
   "source": [
    "import json\n",
    "\n",
    "students = {'name':'백두산','age':23, 'job':'고고학자','id':'backToTheFuture', 'password':'adkf23kj1'},{'name':'한라산','age':25, 'job':'관광 가이드','id':'TheTallestInTheSouth', 'password':'3242342'}, {'name':'지리산','age':27, 'job':'지리학자','id':'ILikeToPlay', 'password':'fh234234'}, {'name':'무등산','age':24, 'job':'쉼터 봉사자','id':'meueungsan', 'password':'artater'}, {'name':'칠갑산','age':123, 'job':'은퇴자','id':'IAmJustResting', 'password':'asdfadsf213'}"
   ]
  },
  {
   "cell_type": "code",
   "execution_count": 2,
   "metadata": {
    "tags": []
   },
   "outputs": [
    {
     "output_type": "stream",
     "name": "stdout",
     "text": "[{'name': '백두산', 'age': 23, 'job': '고고학자', 'id': 'backToTheFuture', 'password': 'adkf23kj1'}, {'name': '한라산', 'age': 25, 'job': '관광 가이드', 'id': 'TheTallestInTheSouth', 'password': '3242342'}, {'name': '지리산', 'age': 27, 'job': '지리학자', 'id': 'ILikeToPlay', 'password': 'fh234234'}, {'name': '무등산', 'age': 24, 'job': '쉼터 봉사자', 'id': 'meueungsan', 'password': 'artater'}, {'name': '칠갑산', 'age': 123, 'job': '은퇴자', 'id': 'IAmJustResting', 'password': 'asdfadsf213'}]\n"
    }
   ],
   "source": [
    "with open('students_list.json','w',encoding='utf-8') as f:\n",
    "    json.dump(students, f)\n",
    "\n",
    "with open('students_list.json','r',encoding='utf-8') as f:\n",
    "    data = json.load(f)\n",
    "\n",
    "print(data)"
   ]
  }
 ],
 "metadata": {
  "language_info": {
   "codemirror_mode": {
    "name": "ipython",
    "version": 3
   },
   "file_extension": ".py",
   "mimetype": "text/x-python",
   "name": "python",
   "nbconvert_exporter": "python",
   "pygments_lexer": "ipython3",
   "version": 3
  },
  "orig_nbformat": 2,
  "kernelspec": {
   "name": "python_defaultSpec_1594196800724",
   "display_name": "Python 3.7.6 64-bit ('base': conda)"
  }
 },
 "nbformat": 4,
 "nbformat_minor": 2
}