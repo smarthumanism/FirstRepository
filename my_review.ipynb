{
 "cells": [
  {
   "cell_type": "code",
   "execution_count": 7,
   "metadata": {},
   "outputs": [
    {
     "name": "stdout",
     "output_type": "stream",
     "text": [
      "홍길동차례 입니다. 빵을 하나 드리겠습니다.\n",
      "성진차례 입니다. 빵을 하나 드리겠습니다.\n",
      "심청이차례 입니다. 빵을 하나 드리겠습니다.\n",
      "장발장차례 입니다. 빵을 드릴 수 없습니다.\n",
      "심봉사차례 입니다. 빵을 하나 드리겠습니다.\n"
     ]
    }
   ],
   "source": [
    "people = ['홍길동', '성진', '심청이', '장발장', '심봉사']\n",
    "\n",
    "words = map(lambda x: x + '차례 입니다. 빵을 드릴 수 없습니다.' if x == '장발장' else x + '차례 입니다. 빵을 하나 드리겠습니다.', people)\n",
    "for word in words:\n",
    "    print(word)"
   ]
  },
  {
   "cell_type": "code",
   "execution_count": 11,
   "metadata": {},
   "outputs": [
    {
     "name": "stdout",
     "output_type": "stream",
     "text": [
      "홍길동 은 빵을 먹을 수 있는 사람입니다.\n",
      "성진 은 빵을 먹을 수 있는 사람입니다.\n",
      "심청이 은 빵을 먹을 수 있는 사람입니다.\n",
      "장발장 은 빵을 먹을 수 없는 사람입니다.\n",
      "심봉사 은 빵을 먹을 수 있는 사람입니다.\n"
     ]
    }
   ],
   "source": [
    "def determine_rightforbread(name):\n",
    "    right = 0\n",
    "    if name == '장발장':\n",
    "        right = 0\n",
    "    else:\n",
    "        right = 1\n",
    "    return right\n",
    "\n",
    "def declare_rightforbread():\n",
    "    for person in people:\n",
    "        if determine_rightforbread(person) == 0:\n",
    "            print(person,\"은 빵을 먹을 수 없는 사람입니다.\")\n",
    "        else:\n",
    "            print(person, \"은 빵을 먹을 수 있는 사람입니다.\")\n",
    "            \n",
    "declare_rightforbread()\n"
   ]
  },
  {
   "cell_type": "code",
   "execution_count": 13,
   "metadata": {},
   "outputs": [
    {
     "name": "stdout",
     "output_type": "stream",
     "text": [
      "1\n",
      "2\n"
     ]
    }
   ],
   "source": [
    "def stamp(num):\n",
    "    \"\"\"쿠폰 스탬프가 찍힌 횟수를 증가시키고, 화면에 출력한다.\"\"\"\n",
    "#    global num_stamp           # num_stamp는 전역변수다\n",
    "#    num_stamp = num_stamp + 1  # 오류가 발생하지 않는다 (global 안쓰면 오류 발생함)\n",
    "#    print(num_stamp)\n",
    "    print(num + 1)\n",
    "    return num + 1\n",
    "\n",
    "num_stamp = 0\n",
    "num_stamp = stamp(num_stamp)  # 화면에 1이 출력된다\n",
    "num_stamp = stamp(num_stamp)  # 화면에 2가 출력된다\n"
   ]
  },
  {
   "cell_type": "code",
   "execution_count": 54,
   "metadata": {},
   "outputs": [],
   "source": [
    "class transportation:\n",
    "    def __init__(self, name = 'aaa', price = 10000, departure_time = [0,0], arrival_time = [0,0]):\n",
    "        self.name = name\n",
    "        self.price = price\n",
    "        self.departure_time = departure_time\n",
    "        self.arrival_time = arrival_time\n",
    "    def view_departure_time(self):\n",
    "        print(\"{}시 {}분 출발입니다.\".format(self.departure_time[0], self.departure_time[1]))\n",
    "    def view_arrival_time(self):\n",
    "        print(\"{}시 {}분 도착입니다.\".format(self.arrival_time[0], self.arrival_time[1]))\n",
    "\n",
    "class airplane(transportation):\n",
    "    def __init__(self, name = 'asiana111', price = 10000, departure_time = [0,0], arrival_time = [0,0], luggage_support = False):\n",
    "        super().__init__(name, price, departure_time, arrival_time)\n",
    "        self.luggage_support = luggage_support\n",
    "    def send_luggage(self):\n",
    "        if self.luggage_support == True:\n",
    "            print('수하물을 맡겼습니다!')\n",
    "        else:\n",
    "            print('이 비행기는 수하물을 못 맡깁니다!')\n",
    "\n",
    "class train(transportation):\n",
    "    def __init__(self, name = 'ktx111', price = 15000, departure_time = [0,0], arrival_time = [0,0], seat_class = 'C'):\n",
    "        super().__init__(name, price, departure_time, arrival_time)\n",
    "        self.seat_class = seat_class\n",
    "    def view_seat_class(self):\n",
    "        print('좌석 등급은 {}입니다.'.format(self.seat_class))\n"
   ]
  },
  {
   "cell_type": "code",
   "execution_count": 62,
   "metadata": {},
   "outputs": [
    {
     "name": "stdout",
     "output_type": "stream",
     "text": [
      "13시 10분 출발입니다.\n",
      "15시 10분 도착입니다.\n",
      "['t1', 20000]\n",
      "15시 10분 출발입니다.\n",
      "17시 10분 도착입니다.\n",
      "['airplane', 30000]\n",
      "이 비행기는 수하물을 못 맡깁니다!\n",
      "12시 51분 출발입니다.\n",
      "23시 21분 도착입니다.\n",
      "['ktx001', 50000]\n",
      "좌석 등급은 A입니다.\n",
      "좌석 등급은 D입니다.\n"
     ]
    }
   ],
   "source": [
    "t1 = transportation('t1', 20000, [13,10],[15,10])\n",
    "t1.view_departure_time()\n",
    "t1.view_arrival_time()\n",
    "print([t1.name,t1.price])\n",
    "\n",
    "t2 = airplane('airplane', 30000, [15,10],[17,10], False)\n",
    "t2.view_departure_time()\n",
    "t2.view_arrival_time()\n",
    "print([t2.name,t2.price])\n",
    "t2.send_luggage()\n",
    "\n",
    "t3 = train('ktx001', 50000, [12,51],[23,21],'A')\n",
    "t3.view_departure_time()\n",
    "t3.view_arrival_time()\n",
    "print([t3.name,t3.price])\n",
    "t3.view_seat_class()\n",
    "\n",
    "t4 = train('srt001', seat_class='D')\n",
    "t4.view_seat_class()\n"
   ]
  },
  {
   "cell_type": "code",
   "execution_count": null,
   "metadata": {},
   "outputs": [],
   "source": []
  }
 ],
 "metadata": {
  "kernelspec": {
   "display_name": "Python 3",
   "language": "python",
   "name": "python3"
  },
  "language_info": {
   "codemirror_mode": {
    "name": "ipython",
    "version": 3
   },
   "file_extension": ".py",
   "mimetype": "text/x-python",
   "name": "python",
   "nbconvert_exporter": "python",
   "pygments_lexer": "ipython3",
   "version": "3.7.6"
  }
 },
 "nbformat": 4,
 "nbformat_minor": 4
}
